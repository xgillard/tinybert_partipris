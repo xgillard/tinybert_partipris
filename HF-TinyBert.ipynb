{
 "cells": [
  {
   "cell_type": "code",
   "execution_count": 1,
   "id": "ba7571f7-ef0c-4c5a-836a-763d286189ad",
   "metadata": {},
   "outputs": [],
   "source": [
    "import random\n",
    "import math\n",
    "import pandas as pd\n",
    "from transformers import AutoTokenizer\n",
    "from datasets import Dataset, DatasetDict\n",
    "\n",
    "tokenizer = AutoTokenizer.from_pretrained(\"xaviergillard/parti-pris-v2\")\n",
    "\n",
    "data = pd.read_csv(\"corpus_partipris_v2.csv\")\\\n",
    "            .apply(lambda row: f\"{row['title']}\\n{row['full_text']}\", axis=1)\\\n",
    "            .map(lambda x: tokenizer.encode(x, truncation=True, stride=2, max_length=(1024-3)//2, return_overflowing_tokens=True))\n",
    "\n",
    "N    = len(data)\n",
    "info = []\n",
    "for i,text in enumerate(data):\n",
    "    for j,chunk in enumerate(text):\n",
    "        nsp_label = j < len(chunk) - 1 and bool(random.getrandbits(1))\n",
    "        other= \"\"\n",
    "        if nsp_label: \n",
    "            other = chunk[j+1]\n",
    "        else:\n",
    "            next  = int(math.floor(random.random() * N))\n",
    "            other = data[next][0]\n",
    "        that = tokenizer.decode(other)\n",
    "        a = tokenizer.decode(chunk, skip_special_tokens=True)\n",
    "        b = tokenizer.decode(other, skip_special_tokens=True)\n",
    "        record = tokenizer(a, b, max_length=1024, truncation=False, padding=False)\n",
    "        record['next_sentence_label'] = 0 if nsp_label else 1\n",
    "        info.append(record)\n",
    "\n",
    "data = pd.DataFrame(info)\n",
    "data.to_parquet('partipris_pretraining_full.parquet')"
   ]
  },
  {
   "cell_type": "code",
   "execution_count": 2,
   "id": "89e72e2d-808a-4bd5-a42e-014bb290932d",
   "metadata": {},
   "outputs": [
    {
     "name": "stderr",
     "output_type": "stream",
     "text": [
      "C:\\Users\\xavie\\.conda\\envs\\transformers-cuda\\Lib\\site-packages\\transformers\\tokenization_utils_base.py:1601: FutureWarning: `clean_up_tokenization_spaces` was not set. It will be set to `True` by default. This behavior will be depracted in transformers v4.45, and will be then set to `False` by default. For more details check this issue: https://github.com/huggingface/transformers/issues/31884\n",
      "  warnings.warn(\n"
     ]
    }
   ],
   "source": [
    "# train tokenizer\n",
    "from transformers import AutoTokenizer\n",
    "\n",
    "if False: \n",
    "    tokenizer = AutoTokenizer.from_pretrained('bert-base-uncased').train_new_from_iterator(iter(data['all_texts']), vocab_size=30522)\n",
    "    tokenizer.push_to_hub(\"xaviergillard/parti-pris-v2\")\n",
    "else: \n",
    "    tokenizer = AutoTokenizer.from_pretrained(\"xaviergillard/parti-pris-v2\")"
   ]
  },
  {
   "cell_type": "code",
   "execution_count": 2,
   "id": "543c5671-8238-4a1c-b286-06c587712b69",
   "metadata": {},
   "outputs": [
    {
     "data": {
      "text/plain": [
       "count    32334.000000\n",
       "mean       606.377961\n",
       "std        285.884073\n",
       "min          7.000000\n",
       "25%        454.000000\n",
       "50%        512.000000\n",
       "75%        877.000000\n",
       "max       1023.000000\n",
       "Name: input_ids, dtype: float64"
      ]
     },
     "execution_count": 2,
     "metadata": {},
     "output_type": "execute_result"
    }
   ],
   "source": [
    "df = pd.read_parquet('partipris_pretraining_full.parquet')\n",
    "df['input_ids'].map(lambda x: len(x)).describe()"
   ]
  },
  {
   "cell_type": "code",
   "execution_count": 13,
   "id": "12dffa0c-e946-4d7f-8b1d-4c6ff07bc031",
   "metadata": {},
   "outputs": [],
   "source": [
    "import numpy  as np\n",
    "import pandas as pd\n",
    "import torch\n",
    "import torch.nn   as nn\n",
    "from transformers import AutoTokenizer\n",
    "from transformers import BertConfig, BertForPreTraining\n",
    "from transformers import Trainer, TrainingArguments, DataCollatorForLanguageModeling\n",
    "from datasets     import Dataset\n",
    "import evaluate\n",
    "\n",
    "# model\n",
    "data      = Dataset.from_pandas(pd.read_parquet('partipris_pretraining_full.parquet')[:100])\n",
    "data      = data.train_test_split(train_size=0.8, shuffle=True)\n",
    "tokenizer = AutoTokenizer.from_pretrained(\"xaviergillard/parti-pris-v2\")\n",
    "#config    = BertConfig(\n",
    "#    hidden_size             =  384, # 768\n",
    "#    num_hidden_layers       =    6, # 12\n",
    "#    num_attention_heads     =    6, # 12\n",
    "#    max_position_embeddings = 1024, # 512\n",
    "#    is_decoder              = False)\n",
    "model     = BertForPreTraining.from_pretrained(\"xaviergillard/parti-pris-v2\", torch_dtype=torch.bfloat16) \n",
    "\n",
    "# metrics\n",
    "loss     = nn.CrossEntropyLoss()\n",
    "accuracy = evaluate.load(\"accuracy\")\n",
    "def ignoring_dummy(preds, labels, dummy=-100):\n",
    "    yhat = []\n",
    "    y    = []\n",
    "    labels = labels.reshape((-1,))\n",
    "    preds  = preds.reshape((labels.shape[0], -1))    \n",
    "    for i,label in enumerate(labels):\n",
    "        if label == dummy:\n",
    "            continue\n",
    "        else:\n",
    "            y.append(label)\n",
    "            yhat.append(preds[i].argmax())\n",
    "    yhat = np.array(yhat)\n",
    "    y    = np.array(y)\n",
    "    return (yhat, y)\n",
    "    \n",
    "def compute_metrics(eval):\n",
    "    y_mlm, y_nsp = eval.label_ids\n",
    "    h_mlm, h_nsp = eval.predictions\n",
    "    #\n",
    "    y_mlm = torch.tensor(y_mlm.reshape((-1,)))\n",
    "    h_mlm = torch.tensor(h_mlm.reshape((y_mlm.shape[0], -1)))\n",
    "    l_mlm = loss(h_mlm, y_mlm)\n",
    "    \n",
    "    y_nsp = torch.tensor(y_nsp.reshape((-1,)))\n",
    "    h_nsp = torch.tensor(h_nsp.reshape((y_nsp.shape[0], -1)))\n",
    "    l_nsp = loss(h_nsp, y_nsp)\n",
    "    #\n",
    "    h_mlm, y_mlm = ignoring_dummy(h_mlm, y_mlm, dummy=-100)\n",
    "    a_mlm = accuracy.compute(predictions=h_mlm, references=y_mlm)\n",
    "    a_nsp = accuracy.compute(predictions=h_nsp.argmax(axis=-1), references=y_nsp)\n",
    "    #\n",
    "    return {\n",
    "        'mlm_accuracy': a_mlm['accuracy'], \n",
    "        'nsp_accuracy': a_nsp['accuracy'], \n",
    "        'mlm_loss': l_mlm, \n",
    "        'nsp_loss': l_nsp, \n",
    "        'tot_loss': l_mlm + l_nsp \n",
    "    }\n",
    "\n",
    "# training\n",
    "BATCH_SZ  = 8\n",
    "collator  = DataCollatorForLanguageModeling(tokenizer=tokenizer)\n",
    "args      = TrainingArguments(\n",
    "    num_train_epochs            = 3,\n",
    "    per_device_train_batch_size = BATCH_SZ,\n",
    "    #\n",
    "    output_dir                  = './checkpoints', \n",
    "    overwrite_output_dir        = True,\n",
    "    save_strategy               = \"epoch\", \n",
    "    save_total_limit            = 2,\n",
    "    #\n",
    "    eval_strategy               = \"epoch\",\n",
    "    #\n",
    "    gradient_accumulation_steps = 100,\n",
    "    bf16                        = True)\n",
    "\n",
    "trainer = Trainer(\n",
    "    model           = model,\n",
    "    tokenizer       = tokenizer,\n",
    "    train_dataset   = data['train'], \n",
    "    eval_dataset    = data['test'],\n",
    "    args            = args,\n",
    "    data_collator   = collator,\n",
    "    compute_metrics = compute_metrics\n",
    ")    "
   ]
  },
  {
   "cell_type": "code",
   "execution_count": 14,
   "id": "716c548b-97b6-42b0-bb68-194a5c91c256",
   "metadata": {},
   "outputs": [
    {
     "data": {
      "text/html": [
       "\n",
       "    <div>\n",
       "      \n",
       "      <progress value='3' max='3' style='width:300px; height:20px; vertical-align: middle;'></progress>\n",
       "      [3/3 00:28, Epoch 3/3]\n",
       "    </div>\n",
       "    <table border=\"1\" class=\"dataframe\">\n",
       "  <thead>\n",
       " <tr style=\"text-align: left;\">\n",
       "      <th>Epoch</th>\n",
       "      <th>Training Loss</th>\n",
       "      <th>Validation Loss</th>\n",
       "      <th>Mlm Accuracy</th>\n",
       "      <th>Nsp Accuracy</th>\n",
       "      <th>Mlm Loss</th>\n",
       "      <th>Nsp Loss</th>\n",
       "      <th>Tot Loss</th>\n",
       "      <th>Runtime</th>\n",
       "      <th>Samples Per Second</th>\n",
       "      <th>Steps Per Second</th>\n",
       "    </tr>\n",
       "  </thead>\n",
       "  <tbody>\n",
       "    <tr>\n",
       "      <td>1</td>\n",
       "      <td>No log</td>\n",
       "      <td>6.478864</td>\n",
       "      <td>0.091077</td>\n",
       "      <td>1.000000</td>\n",
       "      <td>6.467177</td>\n",
       "      <td>0.000200</td>\n",
       "      <td>6.467377</td>\n",
       "      <td>4.972000</td>\n",
       "      <td>4.023000</td>\n",
       "      <td>0.603000</td>\n",
       "    </tr>\n",
       "    <tr>\n",
       "      <td>2</td>\n",
       "      <td>No log</td>\n",
       "      <td>6.544699</td>\n",
       "      <td>0.086753</td>\n",
       "      <td>1.000000</td>\n",
       "      <td>6.563579</td>\n",
       "      <td>0.000190</td>\n",
       "      <td>6.563769</td>\n",
       "      <td>4.332500</td>\n",
       "      <td>4.616000</td>\n",
       "      <td>0.692000</td>\n",
       "    </tr>\n",
       "    <tr>\n",
       "      <td>3</td>\n",
       "      <td>No log</td>\n",
       "      <td>6.511369</td>\n",
       "      <td>0.095406</td>\n",
       "      <td>1.000000</td>\n",
       "      <td>6.484383</td>\n",
       "      <td>0.000189</td>\n",
       "      <td>6.484572</td>\n",
       "      <td>4.242700</td>\n",
       "      <td>4.714000</td>\n",
       "      <td>0.707000</td>\n",
       "    </tr>\n",
       "  </tbody>\n",
       "</table><p>"
      ],
      "text/plain": [
       "<IPython.core.display.HTML object>"
      ]
     },
     "metadata": {},
     "output_type": "display_data"
    },
    {
     "data": {
      "text/plain": [
       "TrainOutput(global_step=3, training_loss=0.6485934654871622, metrics={'train_runtime': 30.3544, 'train_samples_per_second': 7.907, 'train_steps_per_second': 0.099, 'total_flos': 25220884782720.0, 'train_loss': 0.6485934654871622, 'epoch': 3.0})"
      ]
     },
     "execution_count": 14,
     "metadata": {},
     "output_type": "execute_result"
    }
   ],
   "source": [
    "trainer.train()"
   ]
  },
  {
   "cell_type": "code",
   "execution_count": null,
   "id": "c39b1880-3458-4681-bf5a-af58c35878f1",
   "metadata": {},
   "outputs": [],
   "source": []
  }
 ],
 "metadata": {
  "kernelspec": {
   "display_name": "Python 3 (ipykernel)",
   "language": "python",
   "name": "python3"
  },
  "language_info": {
   "codemirror_mode": {
    "name": "ipython",
    "version": 3
   },
   "file_extension": ".py",
   "mimetype": "text/x-python",
   "name": "python",
   "nbconvert_exporter": "python",
   "pygments_lexer": "ipython3",
   "version": "3.12.3"
  }
 },
 "nbformat": 4,
 "nbformat_minor": 5
}
